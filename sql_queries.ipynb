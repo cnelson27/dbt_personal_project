{
 "cells": [
  {
   "cell_type": "markdown",
   "metadata": {},
   "source": [
    "# SQL Query Execution\n",
    "This notebook is intended to be used for executing queries on the duckdb database as part of this project."
   ]
  },
  {
   "cell_type": "code",
   "execution_count": null,
   "metadata": {},
   "outputs": [],
   "source": [
    "import duckdb\n",
    "import pandas as pd"
   ]
  },
  {
   "cell_type": "code",
   "execution_count": null,
   "metadata": {},
   "outputs": [],
   "source": [
    "# Creates duckdb database named baby_names.db\n",
    "sql_query = '''\n",
    "SELECT *\n",
    "FROM old_testament_names\n",
    "'''\n",
    "\n",
    "with duckdb.connect('data/baby_names.db') as con:\n",
    "    display(con.sql(sql_query).df())"
   ]
  },
  {
   "cell_type": "code",
   "execution_count": null,
   "metadata": {},
   "outputs": [],
   "source": [
    "# Imports raw data to bronze tables in baby_names db\n",
    "sql_import_births = '''\n",
    "CREATE OR REPLACE TABLE total_state_births AS \n",
    "SELECT *\n",
    "FROM read_csv_auto(\n",
    "    'data/births.csv',\n",
    "    normalize_names=True\n",
    ")\n",
    "'''\n",
    "\n",
    "sql_import_baby_names_by_state = '''\n",
    "CREATE OR REPLACE TABLE state_baby_names AS \n",
    "SELECT *\n",
    "FROM read_csv_auto(\n",
    "    'data/baby-names-by-state.csv',\n",
    "    normalize_names=True\n",
    ")\n",
    "'''\n",
    "\n",
    "sql_import_geography = '''\n",
    "CREATE OR REPLACE TABLE state_geography AS\n",
    "SELECT *\n",
    "FROM read_csv_auto(\n",
    "    'data/GEOINFO2023.GEOINFO-Data.csv',\n",
    "    normalize_names=True\n",
    ")\n",
    "'''\n",
    "\n",
    "sql_import_old_testament = '''\n",
    "CREATE OR REPLACE TABLE old_testament_names AS\n",
    "SELECT *\n",
    "FROM read_csv(\n",
    "    'data/old-testament.txt',\n",
    "    header=False,\n",
    "    columns={\n",
    "        'Name': 'VARCHAR'\n",
    "    }\n",
    ")\n",
    "'''\n",
    "\n",
    "sql_import_educational_attainment = '''\n",
    "CREATE OR REPLACE TABLE state_educational_attainment AS\n",
    "SELECT *\n",
    "FROM read_csv_auto(\n",
    "    'data/ACSST5Y2022.S1501-Data.csv',\n",
    "    normalize_names=True\n",
    ")\n",
    "'''\n",
    "\n",
    "sql_import_demographics = '''\n",
    "CREATE OR REPLACE TABLE state_demographics AS\n",
    "SELECT *\n",
    "FROM read_csv_auto(\n",
    "    'data/ACSSPP1Y2022.S0201-Data.csv',\n",
    "    normalize_names=True\n",
    ")\n",
    "'''\n",
    "\n",
    "with duckdb.connect('data/baby_names.db') as con:\n",
    "    display(con.sql(sql_import_births))\n",
    "    display(con.sql(sql_import_baby_names_by_state))\n",
    "    display(con.sql(sql_import_geography))\n",
    "    display(con.sql(sql_import_old_testament))\n",
    "    display(con.sql(sql_import_educational_attainment))\n",
    "    display(con.sql(sql_import_demographics))\n",
    "\n",
    "\n",
    "\n",
    "\n"
   ]
  }
 ],
 "metadata": {
  "language_info": {
   "name": "python"
  }
 },
 "nbformat": 4,
 "nbformat_minor": 2
}
