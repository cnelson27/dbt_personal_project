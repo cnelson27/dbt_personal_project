{
 "cells": [
  {
   "cell_type": "markdown",
   "metadata": {},
   "source": [
    "# SQL Query Execution\n",
    "This notebook is intended to be used for executing queries on the duckdb database as part of this project."
   ]
  },
  {
   "cell_type": "code",
   "execution_count": 2,
   "metadata": {},
   "outputs": [],
   "source": [
    "import duckdb\n",
    "import pandas as pd"
   ]
  },
  {
   "cell_type": "code",
   "execution_count": 45,
   "metadata": {},
   "outputs": [
    {
     "data": {
      "text/html": [
       "<div>\n",
       "<style scoped>\n",
       "    .dataframe tbody tr th:only-of-type {\n",
       "        vertical-align: middle;\n",
       "    }\n",
       "\n",
       "    .dataframe tbody tr th {\n",
       "        vertical-align: top;\n",
       "    }\n",
       "\n",
       "    .dataframe thead th {\n",
       "        text-align: right;\n",
       "    }\n",
       "</style>\n",
       "<table border=\"1\" class=\"dataframe\">\n",
       "  <thead>\n",
       "    <tr style=\"text-align: right;\">\n",
       "      <th></th>\n",
       "      <th>name</th>\n",
       "    </tr>\n",
       "  </thead>\n",
       "  <tbody>\n",
       "    <tr>\n",
       "      <th>0</th>\n",
       "      <td>bronze_name_counts</td>\n",
       "    </tr>\n",
       "    <tr>\n",
       "      <th>1</th>\n",
       "      <td>bronze_old_testament_names</td>\n",
       "    </tr>\n",
       "    <tr>\n",
       "      <th>2</th>\n",
       "      <td>bronze_state_births</td>\n",
       "    </tr>\n",
       "    <tr>\n",
       "      <th>3</th>\n",
       "      <td>bronze_state_demographics</td>\n",
       "    </tr>\n",
       "    <tr>\n",
       "      <th>4</th>\n",
       "      <td>bronze_state_educational_attainment</td>\n",
       "    </tr>\n",
       "    <tr>\n",
       "      <th>5</th>\n",
       "      <td>bronze_state_geography</td>\n",
       "    </tr>\n",
       "    <tr>\n",
       "      <th>6</th>\n",
       "      <td>first_model</td>\n",
       "    </tr>\n",
       "    <tr>\n",
       "      <th>7</th>\n",
       "      <td>old_testament_names</td>\n",
       "    </tr>\n",
       "    <tr>\n",
       "      <th>8</th>\n",
       "      <td>state_abbreviation_lookup</td>\n",
       "    </tr>\n",
       "    <tr>\n",
       "      <th>9</th>\n",
       "      <td>state_baby_names</td>\n",
       "    </tr>\n",
       "    <tr>\n",
       "      <th>10</th>\n",
       "      <td>state_demographics</td>\n",
       "    </tr>\n",
       "    <tr>\n",
       "      <th>11</th>\n",
       "      <td>state_educational_attainment</td>\n",
       "    </tr>\n",
       "    <tr>\n",
       "      <th>12</th>\n",
       "      <td>state_geography</td>\n",
       "    </tr>\n",
       "    <tr>\n",
       "      <th>13</th>\n",
       "      <td>total_state_births</td>\n",
       "    </tr>\n",
       "  </tbody>\n",
       "</table>\n",
       "</div>"
      ],
      "text/plain": [
       "                                   name\n",
       "0                    bronze_name_counts\n",
       "1            bronze_old_testament_names\n",
       "2                   bronze_state_births\n",
       "3             bronze_state_demographics\n",
       "4   bronze_state_educational_attainment\n",
       "5                bronze_state_geography\n",
       "6                           first_model\n",
       "7                   old_testament_names\n",
       "8             state_abbreviation_lookup\n",
       "9                      state_baby_names\n",
       "10                   state_demographics\n",
       "11         state_educational_attainment\n",
       "12                      state_geography\n",
       "13                   total_state_births"
      ]
     },
     "metadata": {},
     "output_type": "display_data"
    }
   ],
   "source": [
    "# Creates duckdb database named baby_names.db\n",
    "sql_query = '''\n",
    "show tables\n",
    "'''\n",
    "\n",
    "with duckdb.connect('data/baby_names.db') as con:\n",
    "    display(con.sql(sql_query).df())"
   ]
  },
  {
   "cell_type": "code",
   "execution_count": 74,
   "metadata": {},
   "outputs": [
    {
     "data": {
      "text/html": [
       "<div>\n",
       "<style scoped>\n",
       "    .dataframe tbody tr th:only-of-type {\n",
       "        vertical-align: middle;\n",
       "    }\n",
       "\n",
       "    .dataframe tbody tr th {\n",
       "        vertical-align: top;\n",
       "    }\n",
       "\n",
       "    .dataframe thead th {\n",
       "        text-align: right;\n",
       "    }\n",
       "</style>\n",
       "<table border=\"1\" class=\"dataframe\">\n",
       "  <thead>\n",
       "    <tr style=\"text-align: right;\">\n",
       "      <th></th>\n",
       "      <th>count_star()</th>\n",
       "    </tr>\n",
       "  </thead>\n",
       "  <tbody>\n",
       "    <tr>\n",
       "      <th>0</th>\n",
       "      <td>51</td>\n",
       "    </tr>\n",
       "  </tbody>\n",
       "</table>\n",
       "</div>"
      ],
      "text/plain": [
       "   count_star()\n",
       "0            51"
      ]
     },
     "metadata": {},
     "output_type": "display_data"
    }
   ],
   "source": [
    "# Creates duckdb database named baby_names.db\n",
    "sql_query = '''\n",
    "SELECT count(*)\n",
    "FROM bronze_state_abbreviation AS ST_ABBREV\n",
    "INNER JOIN bronze_state_demographics AS ST_DEMOS\n",
    "    ON ST_DEMOS.state_name = ST_ABBREV.state_name\n",
    "INNER JOIN bronze_state_educational_attainment AS ST_EDU\n",
    "    ON ST_EDU.state_id = ST_DEMOS.state_id\n",
    "INNER JOIN bronze_state_geography AS ST_GEO\n",
    "    on ST_GEO.state_id = ST_EDU.state_id\n",
    "'''\n",
    "\n",
    "with duckdb.connect('data/baby_names.db') as con:\n",
    "    display(con.sql(sql_query).df())"
   ]
  },
  {
   "cell_type": "code",
   "execution_count": 44,
   "metadata": {},
   "outputs": [
    {
     "data": {
      "text/plain": [
       "None"
      ]
     },
     "metadata": {},
     "output_type": "display_data"
    },
    {
     "data": {
      "text/plain": [
       "None"
      ]
     },
     "metadata": {},
     "output_type": "display_data"
    },
    {
     "data": {
      "text/plain": [
       "None"
      ]
     },
     "metadata": {},
     "output_type": "display_data"
    },
    {
     "data": {
      "text/plain": [
       "None"
      ]
     },
     "metadata": {},
     "output_type": "display_data"
    },
    {
     "data": {
      "text/plain": [
       "None"
      ]
     },
     "metadata": {},
     "output_type": "display_data"
    },
    {
     "data": {
      "text/plain": [
       "None"
      ]
     },
     "metadata": {},
     "output_type": "display_data"
    },
    {
     "data": {
      "text/plain": [
       "None"
      ]
     },
     "metadata": {},
     "output_type": "display_data"
    }
   ],
   "source": [
    "# Imports raw data to bronze tables in baby_names db\n",
    "sql_import_births = '''\n",
    "CREATE OR REPLACE TABLE total_state_births AS \n",
    "SELECT *\n",
    "FROM read_csv_auto(\n",
    "    'data/births.csv',\n",
    "    normalize_names=True\n",
    ")\n",
    "'''\n",
    "\n",
    "sql_import_baby_names_by_state = '''\n",
    "CREATE OR REPLACE TABLE state_baby_names AS \n",
    "SELECT *\n",
    "FROM read_csv_auto(\n",
    "    'data/baby-names-by-state.csv',\n",
    "    normalize_names=True\n",
    ")\n",
    "'''\n",
    "\n",
    "sql_import_state_mappings = '''\n",
    "CREATE OR REPLACE TABLE state_abbreviation_lookup AS \n",
    "SELECT *\n",
    "FROM read_csv_auto(\n",
    "    'data/states.csv',\n",
    "    normalize_names=True\n",
    ")\n",
    "'''\n",
    "\n",
    "sql_import_geography = '''\n",
    "CREATE OR REPLACE TABLE state_geography AS\n",
    "SELECT *\n",
    "FROM read_csv_auto(\n",
    "    'data/GEOINFO2023.GEOINFO-Data.csv',\n",
    "    normalize_names=True,\n",
    "    header=True\n",
    ")\n",
    "'''\n",
    "\n",
    "sql_import_old_testament = '''\n",
    "CREATE OR REPLACE TABLE old_testament_names AS\n",
    "SELECT *\n",
    "FROM read_csv(\n",
    "    'data/old-testament.txt',\n",
    "    header=False,\n",
    "    columns={\n",
    "        'Name': 'VARCHAR'\n",
    "    }\n",
    ")\n",
    "'''\n",
    "\n",
    "sql_import_educational_attainment = '''\n",
    "CREATE OR REPLACE TABLE state_educational_attainment AS\n",
    "SELECT *\n",
    "FROM read_csv_auto(\n",
    "    'data/ACSST5Y2022.S1501-Data.csv',\n",
    "    normalize_names=True,\n",
    "    header=True\n",
    ")\n",
    "'''\n",
    "\n",
    "sql_import_demographics = '''\n",
    "CREATE OR REPLACE TABLE state_demographics AS\n",
    "SELECT *\n",
    "FROM read_csv_auto(\n",
    "    'data/DECENNIALCD1182020.P9-Data.csv',\n",
    "    normalize_names=True,\n",
    "    header=True\n",
    ")\n",
    "'''\n",
    "\n",
    "with duckdb.connect('data/baby_names.db') as con:\n",
    "    display(con.sql(sql_import_births))\n",
    "    display(con.sql(sql_import_baby_names_by_state))\n",
    "    display(con.sql(sql_import_geography))\n",
    "    display(con.sql(sql_import_old_testament))\n",
    "    display(con.sql(sql_import_educational_attainment))\n",
    "    display(con.sql(sql_import_demographics))\n",
    "    display(con.sql(sql_import_state_mappings))"
   ]
  }
 ],
 "metadata": {
  "kernelspec": {
   "display_name": "dbt-venv",
   "language": "python",
   "name": "python3"
  },
  "language_info": {
   "codemirror_mode": {
    "name": "ipython",
    "version": 3
   },
   "file_extension": ".py",
   "mimetype": "text/x-python",
   "name": "python",
   "nbconvert_exporter": "python",
   "pygments_lexer": "ipython3",
   "version": "3.11.9"
  }
 },
 "nbformat": 4,
 "nbformat_minor": 2
}
